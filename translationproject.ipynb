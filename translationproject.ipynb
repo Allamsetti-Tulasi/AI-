{
  "nbformat": 4,
  "nbformat_minor": 0,
  "metadata": {
    "colab": {
      "name": "translation.ipynb",
      "provenance": [],
      "collapsed_sections": [],
      "authorship_tag": "ABX9TyPOJWLgPZkld87PBQvDEWfZ",
      "include_colab_link": true
    },
    "kernelspec": {
      "name": "python3",
      "display_name": "Python 3"
    },
    "language_info": {
      "name": "python"
    }
  },
  "cells": [
    {
      "cell_type": "markdown",
      "metadata": {
        "id": "view-in-github",
        "colab_type": "text"
      },
      "source": [
        "<a href=\"https://colab.research.google.com/github/Allamsetti-Tulasi/AI-/blob/main/translationproject.ipynb\" target=\"_parent\"><img src=\"https://colab.research.google.com/assets/colab-badge.svg\" alt=\"Open In Colab\"/></a>"
      ]
    },
    {
      "cell_type": "code",
      "metadata": {
        "id": "qwISKuf3PUCy"
      },
      "source": [
        "import string\n",
        "import re\n",
        "from numpy import array,argmax,random,take\n",
        "import pandas as pd\n",
        "from keras.models import Sequential\n",
        "from keras.layers import Dense, LSTM, Embedding, Bidirectional, RepeatVector, TimeDistributed\n",
        "from keras.preprocessing.text import Tokenizer\n",
        "from keras.callbacks import ModelCheckpoint\n",
        "from keras.preprocessing.sequence import pad_sequences\n",
        "from keras.models import load_model\n",
        "from keras import optimizers\n",
        "import matplotlib.pyplot as plt\n",
        "% matplotlib inline\n",
        "pd.set_option('display.max_colwidth',200) "
      ],
      "execution_count": 4,
      "outputs": []
    },
    {
      "cell_type": "code",
      "metadata": {
        "id": "16zgxTXdQyUn"
      },
      "source": [
        "#function  to read raw textfile\n",
        "def read_text(filename):\n",
        "  #open file\n",
        "  file=open(filename, mode='rt', encoding='utf-8')\n",
        "  #read all text\n",
        "  text=file.read()\n",
        "  file.close()\n",
        "  return text"
      ],
      "execution_count": 7,
      "outputs": []
    },
    {
      "cell_type": "code",
      "metadata": {
        "id": "0sn7ISuwQ2oH"
      },
      "source": [
        "#split a text into sentences\n",
        "def to_lines(text):\n",
        "  sents= text.strip().split('\\n')\n",
        "  sents= [i.split('\\t') for i in sents]\n",
        "  return sents"
      ],
      "execution_count": 8,
      "outputs": []
    },
    {
      "cell_type": "code",
      "metadata": {
        "colab": {
          "base_uri": "https://localhost:8080/"
        },
        "id": "ApdNwF99Q6ih",
        "outputId": "70cf7782-6470-4ae3-9419-829435014b5c"
      },
      "source": [
        "data = read_text(\"/content/deu.txt\")\n",
        "deu_eng = to_lines(data)\n",
        "deu_eng = array(deu_eng)"
      ],
      "execution_count": 9,
      "outputs": [
        {
          "output_type": "stream",
          "text": [
            "/usr/local/lib/python3.7/dist-packages/ipykernel_launcher.py:3: VisibleDeprecationWarning: Creating an ndarray from ragged nested sequences (which is a list-or-tuple of lists-or-tuples-or ndarrays with different lengths or shapes) is deprecated. If you meant to do this, you must specify 'dtype=object' when creating the ndarray\n",
            "  This is separate from the ipykernel package so we can avoid doing imports until\n"
          ],
          "name": "stderr"
        }
      ]
    },
    {
      "cell_type": "code",
      "metadata": {
        "id": "uBV2X_LERXmt"
      },
      "source": [
        "deu_eng =  deu_eng[: 50000]"
      ],
      "execution_count": 25,
      "outputs": []
    },
    {
      "cell_type": "code",
      "metadata": {
        "colab": {
          "base_uri": "https://localhost:8080/"
        },
        "id": "9NKCzZmsRY_T",
        "outputId": "f97600e2-ac90-4c1c-8805-9a4612e346ee"
      },
      "source": [
        "#lets take a look at ourr dta\n",
        "deu_eng"
      ],
      "execution_count": 12,
      "outputs": [
        {
          "output_type": "execute_result",
          "data": {
            "text/plain": [
              "array([list(['Go.', 'Geh.', 'CC-BY 2.0 (France) Attribution: tatoeba.org #2877272 (CM) & #8597805 (Roujin)']),\n",
              "       list(['Hi.', 'Hallo!', 'CC-BY 2.0 (France) Attribution: tatoeba.org #538123 (CM) & #380701 (cburgmer)']),\n",
              "       list(['Hi.', 'GrÃ¼ÃŸ Gott!', 'CC-BY 2.0 (France) Attribution: tatoeba.org #538123 (CM) & #659813 (Esperantostern)']),\n",
              "       ...,\n",
              "       list([\"I'll stay here.\", 'Ich bleibe hier.', 'CC-BY 2.0 (France) Attribution: tatoeba.org #2247811 (CK) & #2552506 (Pfirsichbaeumchen)']),\n",
              "       list([\"I'll stay home.\", 'Ich werde zuhause bleiben.', 'CC-BY 2.0 (France) Attribution: tatoeba.org #321732 (CK) & #411159 (MUIRIEL)']),\n",
              "       list([\"I'll t\"])], dtype=object)"
            ]
          },
          "metadata": {},
          "execution_count": 12
        }
      ]
    },
    {
      "cell_type": "code",
      "metadata": {
        "colab": {
          "base_uri": "https://localhost:8080/",
          "height": 228
        },
        "id": "DxRnGtcaRcSi",
        "outputId": "807ba2fe-eefb-4661-c2b9-04039ee6000c"
      },
      "source": [
        "#empty lists\n",
        "eng_l=[]\n",
        "deu_l=[]\n",
        "#populate the lists with sentence lengths\n",
        "for i in deu_eng[:]:\n",
        "  eng_l.append(len(i.split()))\n",
        "for i in deu_eng[:,1]:\n",
        "  deu_l.append(len(i.split()))\n"
      ],
      "execution_count": 41,
      "outputs": [
        {
          "output_type": "error",
          "ename": "AttributeError",
          "evalue": "ignored",
          "traceback": [
            "\u001b[0;31m---------------------------------------------------------------------------\u001b[0m",
            "\u001b[0;31mAttributeError\u001b[0m                            Traceback (most recent call last)",
            "\u001b[0;32m<ipython-input-41-587bfab76941>\u001b[0m in \u001b[0;36m<module>\u001b[0;34m()\u001b[0m\n\u001b[1;32m      4\u001b[0m \u001b[0;31m#populate the lists with sentence lengths\u001b[0m\u001b[0;34m\u001b[0m\u001b[0;34m\u001b[0m\u001b[0;34m\u001b[0m\u001b[0m\n\u001b[1;32m      5\u001b[0m \u001b[0;32mfor\u001b[0m \u001b[0mi\u001b[0m \u001b[0;32min\u001b[0m \u001b[0mdeu_eng\u001b[0m\u001b[0;34m[\u001b[0m\u001b[0;34m:\u001b[0m\u001b[0;34m]\u001b[0m\u001b[0;34m:\u001b[0m\u001b[0;34m\u001b[0m\u001b[0;34m\u001b[0m\u001b[0m\n\u001b[0;32m----> 6\u001b[0;31m   \u001b[0meng_l\u001b[0m\u001b[0;34m.\u001b[0m\u001b[0mappend\u001b[0m\u001b[0;34m(\u001b[0m\u001b[0mlen\u001b[0m\u001b[0;34m(\u001b[0m\u001b[0mi\u001b[0m\u001b[0;34m.\u001b[0m\u001b[0msplit\u001b[0m\u001b[0;34m(\u001b[0m\u001b[0;34m)\u001b[0m\u001b[0;34m)\u001b[0m\u001b[0;34m)\u001b[0m\u001b[0;34m\u001b[0m\u001b[0;34m\u001b[0m\u001b[0m\n\u001b[0m\u001b[1;32m      7\u001b[0m \u001b[0;32mfor\u001b[0m \u001b[0mi\u001b[0m \u001b[0;32min\u001b[0m \u001b[0mdeu_eng\u001b[0m\u001b[0;34m[\u001b[0m\u001b[0;34m:\u001b[0m\u001b[0;34m,\u001b[0m\u001b[0;36m1\u001b[0m\u001b[0;34m]\u001b[0m\u001b[0;34m:\u001b[0m\u001b[0;34m\u001b[0m\u001b[0;34m\u001b[0m\u001b[0m\n\u001b[1;32m      8\u001b[0m   \u001b[0mdeu_l\u001b[0m\u001b[0;34m.\u001b[0m\u001b[0mappend\u001b[0m\u001b[0;34m(\u001b[0m\u001b[0mlen\u001b[0m\u001b[0;34m(\u001b[0m\u001b[0mi\u001b[0m\u001b[0;34m.\u001b[0m\u001b[0msplit\u001b[0m\u001b[0;34m(\u001b[0m\u001b[0;34m)\u001b[0m\u001b[0;34m)\u001b[0m\u001b[0;34m)\u001b[0m\u001b[0;34m\u001b[0m\u001b[0;34m\u001b[0m\u001b[0m\n",
            "\u001b[0;31mAttributeError\u001b[0m: 'list' object has no attribute 'split'"
          ]
        }
      ]
    },
    {
      "cell_type": "code",
      "metadata": {
        "id": "2LTT4FGPUnmz"
      },
      "source": [
        "length_df=pd.DataFrame({'eng':eng_l,'deu':deu_l})"
      ],
      "execution_count": 34,
      "outputs": []
    },
    {
      "cell_type": "code",
      "metadata": {
        "colab": {
          "base_uri": "https://localhost:8080/",
          "height": 281
        },
        "id": "Ke7_G0diU2Jj",
        "outputId": "a29dc52e-8d95-4658-8e2c-8c4c16326b7f"
      },
      "source": [
        "length_df.hist(bins=30)\n",
        "plt.show()"
      ],
      "execution_count": 35,
      "outputs": [
        {
          "output_type": "display_data",
          "data": {
            "image/png": "[encoded data removed]",
            "text/plain": [
              "<Figure size 432x288 with 2 Axes>"
            ]
          },
          "metadata": {
            "needs_background": "light"
          }
        }
      ]
    },
    {
      "cell_type": "code",
      "metadata": {
        "id": "q9E-IOh5VAek"
      },
      "source": [
        "#functio to build tokenize\n",
        "def tokenization(lines):\n",
        "  tokenizer=Tokenizer()\n",
        "  tokenizer.fit_on_texts(lines)\n",
        "  return tokenizer"
      ],
      "execution_count": 38,
      "outputs": []
    },
    {
      "cell_type": "code",
      "metadata": {
        "colab": {
          "base_uri": "https://localhost:8080/"
        },
        "id": "8l1FOLbuVtH_",
        "outputId": "252f2669-a653-4b73-e692-ae02a6b321d7"
      },
      "source": [
        "#prepare english translation\n",
        "eng_tokenizer=tokenization(deu_eng[0])\n",
        "eng_vocab_size=len(eng_tokenizer.word_index)+1\n",
        "eng_length=8\n",
        "print('english vocabulary size:%d'%eng_vocab_size)"
      ],
      "execution_count": 40,
      "outputs": [
        {
          "output_type": "stream",
          "text": [
            "english vocabulary size:15\n"
          ],
          "name": "stdout"
        }
      ]
    },
    {
      "cell_type": "code",
      "metadata": {
        "colab": {
          "base_uri": "https://localhost:8080/"
        },
        "id": "aKWWRAgJWimh",
        "outputId": "88e2503f-afda-4fb7-afe9-0b969df2700c"
      },
      "source": [
        "#prepare detuch tokenizer\n",
        "deu_tokenizer=tokenization(deu_eng[1])\n",
        "deu_vocab_size=len(deu_tokenizer.word_index)+1\n",
        "deu_length=8\n",
        "print('detuch vocan=bulary size=%d'%deu_vocab_size)"
      ],
      "execution_count": 42,
      "outputs": [
        {
          "output_type": "stream",
          "text": [
            "detuch vocan=bulary size=15\n"
          ],
          "name": "stdout"
        }
      ]
    },
    {
      "cell_type": "code",
      "metadata": {
        "id": "8Qs5dneXXIkh"
      },
      "source": [
        "#encode and pad sequence\n",
        "def encode_sequences(tokenizer, length, lines):\n",
        "  #integer encode sequences\n",
        "  seq=tokenizer.texts_to_sequences(lines)\n",
        "  #pad sequences with 0 values\n",
        "  seq=pad_sequences(seq, maxlen=length, padding='post')\n",
        "  return seq\n",
        "  "
      ],
      "execution_count": 43,
      "outputs": []
    },
    {
      "cell_type": "code",
      "metadata": {
        "id": "x2eBdUuBYDri"
      },
      "source": [
        "from sklearn.model_selection import train_test_split\n",
        "train, test=train_test_split(deu_eng, test_size=0.2, random_state=12)"
      ],
      "execution_count": 47,
      "outputs": []
    },
    {
      "cell_type": "code",
      "metadata": {
        "id": "ceWqo5diYw3P"
      },
      "source": [
        "#preparing training data\n",
        "trainX= encode_sequences(deu_tokenizer, deu_length, train[1])\n",
        "trainY= encode_sequences(deu_tokenizer, eng_length,train[0])\n"
      ],
      "execution_count": 48,
      "outputs": []
    },
    {
      "cell_type": "code",
      "metadata": {
        "id": "Tdgo2Er9ZT-r"
      },
      "source": [
        "#prepare validatin\n",
        "testX=encode_sequences(deu_tokenizer,deu_length,test[1])\n",
        "testY=encode_sequences(deu_tokenizer,eng_length,test[0])"
      ],
      "execution_count": 49,
      "outputs": []
    },
    {
      "cell_type": "code",
      "metadata": {
        "id": "TSMLNj88Zp_3"
      },
      "source": [
        "#built NMT model\n",
        "def build_model(in_vocab, out_vocab, in_timesteps, out_timesteps,units):\n",
        "  model=Sequential()\n",
        "  model.add(Embedding(in_vocab,units,input_length=in_timesteps,mask_zero=True))\n",
        "  model.add(LSTM(units))\n",
        "  model.add(RepeatVector(out_timesteps))\n",
        "  model.add(LSTM(units,return_sequences=True))\n",
        "  model.add(Dense(out_vocab,activation=\"softmax\"))\n",
        "  return model"
      ],
      "execution_count": 50,
      "outputs": []
    },
    {
      "cell_type": "code",
      "metadata": {
        "id": "OZMinN8LekJ4"
      },
      "source": [
        ""
      ],
      "execution_count": null,
      "outputs": []
    },
    {
      "cell_type": "code",
      "metadata": {
        "id": "qlouvi7Qelzv"
      },
      "source": [
        "model =build_model(deu_vocab_size,eng_vocab_size,deu_length,eng_length,512)\n",
        "rms=optimizers.rmsprop(lr=0.001)\n",
        "model.compile(optimizer=rms,loss='sparse_categorical_crossentropy')"
      ],
      "execution_count": null,
      "outputs": []
    },
    {
      "cell_type": "code",
      "metadata": {
        "id": "90fhR96MfVRu"
      },
      "source": [
        "filename='model.h1.24_tulasi'\n",
        "checkpoint=ModelCheckpoint(filename,monitor='val_loss',verbose=1,save_best_only=True,mode='min')\n",
        "history=model.fit(trainX,trainY.reshape(trainY.shape[0],trainY.shape[1],1),\n",
        "                  epochs=5,batch_size=512,\n",
        "                  validation_split=0.2,\n",
        "                  callbacks=[checkpoint], verbose=1)"
      ],
      "execution_count": null,
      "outputs": []
    },
    {
      "cell_type": "code",
      "metadata": {
        "id": "9tMi7PSUhnqE"
      },
      "source": [
        "plt.plot(history.history['loss'])\n",
        "plt.plot(history.history['val_loss'])\n",
        "plt.legend(['train','validation'])\n",
        "plt.show()\n"
      ],
      "execution_count": null,
      "outputs": []
    },
    {
      "cell_type": "code",
      "metadata": {
        "id": "HiUU0ugBigxY"
      },
      "source": [
        "model=load_model('model.h1.24_tulasi')\n",
        "preds=model.predict_classes(testX.reshape((testX.shap[0],testX.shape[1])))\n"
      ],
      "execution_count": null,
      "outputs": []
    },
    {
      "cell_type": "code",
      "metadata": {
        "id": "gOI962f7jGJd"
      },
      "source": [
        "def get_word(n,tokenizer):\n",
        "  for word,index in tokenizer.word_index.items():\n",
        "    if index==n:\n",
        "return word\n",
        "return None"
      ],
      "execution_count": null,
      "outputs": []
    },
    {
      "cell_type": "code",
      "metadata": {
        "id": "AakyESK-jlc5"
      },
      "source": [
        "#convert preiction iinto txt\n",
        "preds_text=[]\n",
        "for i in preds:\n",
        "  temp=[]\n",
        "  for j in range(len(i)):\n",
        "    t=get_word(i[j],eng_tokenizer)\n",
        "    if j>0:\n",
        "      if (t=get_word(i[j-1],eng_tokenizer)) or (t==None):\n",
        "        temp.append('')\n",
        "    else:\n",
        "      temp.append(t)\n",
        "      else:\n",
        "        if (t==None):\n",
        "          temp.append('')\n",
        "          else:\n",
        "            temp.append(''.join(temp))\n",
        "            "
      ],
      "execution_count": null,
      "outputs": []
    },
    {
      "cell_type": "code",
      "metadata": {
        "id": "1EPVGZFSlCV4"
      },
      "source": [
        "pred_df=pd.DataFrame({'actual':test[0], 'predicted' : preds_text})"
      ],
      "execution_count": null,
      "outputs": []
    },
    {
      "cell_type": "code",
      "metadata": {
        "id": "Zt2Acu0YlgV0"
      },
      "source": [
        "pd.set_option('display.max_colwidth',200)"
      ],
      "execution_count": null,
      "outputs": []
    },
    {
      "cell_type": "code",
      "metadata": {
        "id": "Bk-MsAAXlqVC"
      },
      "source": [
        "pred_df.head(15)"
      ],
      "execution_count": null,
      "outputs": []
    },
    {
      "cell_type": "code",
      "metadata": {
        "id": "INl442Y2lw-6"
      },
      "source": [
        "pred_df.tail(15)"
      ],
      "execution_count": null,
      "outputs": []
    }
  ]
}