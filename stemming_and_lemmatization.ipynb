{
  "nbformat": 4,
  "nbformat_minor": 0,
  "metadata": {
    "colab": {
      "name": "stemming and lemmatization.ipynb",
      "provenance": [],
      "authorship_tag": "ABX9TyN4HSTpJaOp7szSi/4wLXMy",
      "include_colab_link": true
    },
    "kernelspec": {
      "name": "python3",
      "display_name": "Python 3"
    },
    "language_info": {
      "name": "python"
    }
  },
  "cells": [
    {
      "cell_type": "markdown",
      "metadata": {
        "id": "view-in-github",
        "colab_type": "text"
      },
      "source": [
        "<a href=\"https://colab.research.google.com/github/Allamsetti-Tulasi/AI-/blob/main/stemming_and_lemmatization.ipynb\" target=\"_parent\"><img src=\"https://colab.research.google.com/assets/colab-badge.svg\" alt=\"Open In Colab\"/></a>"
      ]
    },
    {
      "cell_type": "code",
      "metadata": {
        "colab": {
          "base_uri": "https://localhost:8080/"
        },
        "id": "m6icyGVmHXSM",
        "outputId": "3f7ba596-57f8-4dc9-c417-b85a28799a2b"
      },
      "source": [
        "#import necessary libraries\n",
        "import nltk\n",
        "nltk.download(\"popular\")"
      ],
      "execution_count": 1,
      "outputs": [
        {
          "output_type": "stream",
          "text": [
            "[nltk_data] Downloading collection 'popular'\n",
            "[nltk_data]    | \n",
            "[nltk_data]    | Downloading package cmudict to /root/nltk_data...\n",
            "[nltk_data]    |   Unzipping corpora/cmudict.zip.\n",
            "[nltk_data]    | Downloading package gazetteers to /root/nltk_data...\n",
            "[nltk_data]    |   Unzipping corpora/gazetteers.zip.\n",
            "[nltk_data]    | Downloading package genesis to /root/nltk_data...\n",
            "[nltk_data]    |   Unzipping corpora/genesis.zip.\n",
            "[nltk_data]    | Downloading package gutenberg to /root/nltk_data...\n",
            "[nltk_data]    |   Unzipping corpora/gutenberg.zip.\n",
            "[nltk_data]    | Downloading package inaugural to /root/nltk_data...\n",
            "[nltk_data]    |   Unzipping corpora/inaugural.zip.\n",
            "[nltk_data]    | Downloading package movie_reviews to\n",
            "[nltk_data]    |     /root/nltk_data...\n",
            "[nltk_data]    |   Unzipping corpora/movie_reviews.zip.\n",
            "[nltk_data]    | Downloading package names to /root/nltk_data...\n",
            "[nltk_data]    |   Unzipping corpora/names.zip.\n",
            "[nltk_data]    | Downloading package shakespeare to /root/nltk_data...\n",
            "[nltk_data]    |   Unzipping corpora/shakespeare.zip.\n",
            "[nltk_data]    | Downloading package stopwords to /root/nltk_data...\n",
            "[nltk_data]    |   Unzipping corpora/stopwords.zip.\n",
            "[nltk_data]    | Downloading package treebank to /root/nltk_data...\n",
            "[nltk_data]    |   Unzipping corpora/treebank.zip.\n",
            "[nltk_data]    | Downloading package twitter_samples to\n",
            "[nltk_data]    |     /root/nltk_data...\n",
            "[nltk_data]    |   Unzipping corpora/twitter_samples.zip.\n",
            "[nltk_data]    | Downloading package omw to /root/nltk_data...\n",
            "[nltk_data]    |   Unzipping corpora/omw.zip.\n",
            "[nltk_data]    | Downloading package wordnet to /root/nltk_data...\n",
            "[nltk_data]    |   Unzipping corpora/wordnet.zip.\n",
            "[nltk_data]    | Downloading package wordnet_ic to /root/nltk_data...\n",
            "[nltk_data]    |   Unzipping corpora/wordnet_ic.zip.\n",
            "[nltk_data]    | Downloading package words to /root/nltk_data...\n",
            "[nltk_data]    |   Unzipping corpora/words.zip.\n",
            "[nltk_data]    | Downloading package maxent_ne_chunker to\n",
            "[nltk_data]    |     /root/nltk_data...\n",
            "[nltk_data]    |   Unzipping chunkers/maxent_ne_chunker.zip.\n",
            "[nltk_data]    | Downloading package punkt to /root/nltk_data...\n",
            "[nltk_data]    |   Unzipping tokenizers/punkt.zip.\n",
            "[nltk_data]    | Downloading package snowball_data to\n",
            "[nltk_data]    |     /root/nltk_data...\n",
            "[nltk_data]    | Downloading package averaged_perceptron_tagger to\n",
            "[nltk_data]    |     /root/nltk_data...\n",
            "[nltk_data]    |   Unzipping taggers/averaged_perceptron_tagger.zip.\n",
            "[nltk_data]    | \n",
            "[nltk_data]  Done downloading collection popular\n"
          ],
          "name": "stdout"
        },
        {
          "output_type": "execute_result",
          "data": {
            "text/plain": [
              "True"
            ]
          },
          "metadata": {},
          "execution_count": 1
        }
      ]
    },
    {
      "cell_type": "code",
      "metadata": {
        "id": "4CumgGhmHvbV"
      },
      "source": [
        "from nltk.stem import PorterStemmer\n",
        "from nltk.corpus import stopwords\n",
        "paragraph=\"Tulsidas was a Hindu poet-saint counted amongst the greatest poets in Hindi, Indian, and world literature. He was renowned for his devotion to Lord Rama and is best known as the author of the epic ‘Ramcharitmanas’, a retelling of the Sanskrit ‘Ramayana’ based on Rama's life in the vernacular Awadhi. He is also considered to be the composer of the ‘Hanuman Chalisa’ in praise of Hanuman, an ardent devotee of Rama. Tulsidas was believed to be reincarnation of the saint Valmiki who was the composer of the original ‘Ramayana’. A prolific writer and the composer of numerous popular works, Tulsidas, however, gave only a few facts about his own life in his works. Whatever is known about him is primarily known from the ‘Bhaktamal’ composed by his contemporary Nabhadas, and a commentary on ‘Bhaktamal’ titled ‘Bhaktirasbodhini’ composed by Priyadas. There are many legends surrounding the birth and early life of Tulsidas and he is believed to have met Hanuman, and through his grace, had a vision of Lord Rama. The Sankatmochan Temple dedicated to Hanuman in Varanasi is said to stand at the place where he had the sight of Hanuman. Tulsidas was a much acclaimed poet and the impact of his works continues to reflect in the art, culture and society in India.\""
      ],
      "execution_count": 2,
      "outputs": []
    },
    {
      "cell_type": "code",
      "metadata": {
        "colab": {
          "base_uri": "https://localhost:8080/"
        },
        "id": "0FgpxtvxIHdt",
        "outputId": "005dba1d-0602-4611-8511-8a21ebbcc697"
      },
      "source": [
        "sentences=nltk.sent_tokenize(paragraph)\n",
        "\n",
        "stemmer=PorterStemmer()\n",
        "stopwords.words('english')\n",
        "['i','we','me','my','hy','myself','being','amongst','the','in','and','was','for','his','is','as','us','of','if','to','be','in','an','who']\n",
        "stopwords.words('spanish')\n",
        "['de','la','que','el','en','y','a','los','del','se','las','por','un','para','ese','eso','mio','mas']\n",
        "for i in range(len(sentences)):\n",
        "  words=nltk.word_tokenize(sentences[i])\n",
        "  words=[stemmer.stem(word)for word in words if word not in set(stopwords.words('english'))]\n",
        "  sentences[i]=''.join(words)\n",
        "print(sentences)\n",
        "\n",
        "  "
      ],
      "execution_count": 7,
      "outputs": [
        {
          "output_type": "stream",
          "text": [
            "['tulsidahindupoet-saintcountamongstgreatestpoethindi,indian,worldliteratur.', \"Herenowndevotlordramabestknownauthorepic‘ramcharitmana’,retelsanskrit‘ramayana’baserama'slifevernacularawadhi.\", 'Healsoconsidcompos‘hanumanchalisa’praishanuman,ardentdevoterama.', 'tulsidabelievreincarnsaintvalmikicomposorigin‘ramayana’.', 'Aprolifwritercomposnumerpopularwork,tulsida,howev,gavefactlifework.', 'whatevknownprimariliknown‘bhaktam’composcontemporarinabhada,commentari‘bhaktam’titl‘bhaktirasbodhini’compospriyada.', 'theremanilegendsurroundbirthearlilifetulsidabelievmethanuman,grace,visionlordrama.', 'thesankatmochantempldedichanumanvaranasisaidstandplacesighthanuman.', 'tulsidamuchacclaimpoetimpactworkcontinureflectart,cultursocietiindia.']\n"
          ],
          "name": "stdout"
        }
      ]
    }
  ]
}