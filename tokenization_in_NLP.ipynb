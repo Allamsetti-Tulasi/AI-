{
  "nbformat": 4,
  "nbformat_minor": 0,
  "metadata": {
    "colab": {
      "name": "tokenization in NLP.ipynb",
      "provenance": [],
      "collapsed_sections": [],
      "authorship_tag": "ABX9TyNt+JSDLYQn5bYomGoS9lX1",
      "include_colab_link": true
    },
    "kernelspec": {
      "name": "python3",
      "display_name": "Python 3"
    },
    "language_info": {
      "name": "python"
    }
  },
  "cells": [
    {
      "cell_type": "markdown",
      "metadata": {
        "id": "view-in-github",
        "colab_type": "text"
      },
      "source": [
        "<a href=\"https://colab.research.google.com/github/Allamsetti-Tulasi/AI-/blob/main/tokenization_in_NLP.ipynb\" target=\"_parent\"><img src=\"https://colab.research.google.com/assets/colab-badge.svg\" alt=\"Open In Colab\"/></a>"
      ]
    },
    {
      "cell_type": "code",
      "metadata": {
        "colab": {
          "base_uri": "https://localhost:8080/"
        },
        "id": "No46EDjaFZEf",
        "outputId": "aa3b5348-992a-464b-eeaf-fae7328ee2c7"
      },
      "source": [
        "#tokenization of paragraph /sentences\n",
        "import nltk\n",
        "nltk.download(\"popular\")\n"
      ],
      "execution_count": 4,
      "outputs": [
        {
          "output_type": "stream",
          "text": [
            "[nltk_data] Downloading collection 'popular'\n",
            "[nltk_data]    | \n",
            "[nltk_data]    | Downloading package cmudict to /root/nltk_data...\n",
            "[nltk_data]    |   Unzipping corpora/cmudict.zip.\n",
            "[nltk_data]    | Downloading package gazetteers to /root/nltk_data...\n",
            "[nltk_data]    |   Unzipping corpora/gazetteers.zip.\n",
            "[nltk_data]    | Downloading package genesis to /root/nltk_data...\n",
            "[nltk_data]    |   Unzipping corpora/genesis.zip.\n",
            "[nltk_data]    | Downloading package gutenberg to /root/nltk_data...\n",
            "[nltk_data]    |   Unzipping corpora/gutenberg.zip.\n",
            "[nltk_data]    | Downloading package inaugural to /root/nltk_data...\n",
            "[nltk_data]    |   Unzipping corpora/inaugural.zip.\n",
            "[nltk_data]    | Downloading package movie_reviews to\n",
            "[nltk_data]    |     /root/nltk_data...\n",
            "[nltk_data]    |   Unzipping corpora/movie_reviews.zip.\n",
            "[nltk_data]    | Downloading package names to /root/nltk_data...\n",
            "[nltk_data]    |   Unzipping corpora/names.zip.\n",
            "[nltk_data]    | Downloading package shakespeare to /root/nltk_data...\n",
            "[nltk_data]    |   Unzipping corpora/shakespeare.zip.\n",
            "[nltk_data]    | Downloading package stopwords to /root/nltk_data...\n",
            "[nltk_data]    |   Unzipping corpora/stopwords.zip.\n",
            "[nltk_data]    | Downloading package treebank to /root/nltk_data...\n",
            "[nltk_data]    |   Unzipping corpora/treebank.zip.\n",
            "[nltk_data]    | Downloading package twitter_samples to\n",
            "[nltk_data]    |     /root/nltk_data...\n",
            "[nltk_data]    |   Unzipping corpora/twitter_samples.zip.\n",
            "[nltk_data]    | Downloading package omw to /root/nltk_data...\n",
            "[nltk_data]    |   Unzipping corpora/omw.zip.\n",
            "[nltk_data]    | Downloading package wordnet to /root/nltk_data...\n",
            "[nltk_data]    |   Unzipping corpora/wordnet.zip.\n",
            "[nltk_data]    | Downloading package wordnet_ic to /root/nltk_data...\n",
            "[nltk_data]    |   Unzipping corpora/wordnet_ic.zip.\n",
            "[nltk_data]    | Downloading package words to /root/nltk_data...\n",
            "[nltk_data]    |   Unzipping corpora/words.zip.\n",
            "[nltk_data]    | Downloading package maxent_ne_chunker to\n",
            "[nltk_data]    |     /root/nltk_data...\n",
            "[nltk_data]    |   Unzipping chunkers/maxent_ne_chunker.zip.\n",
            "[nltk_data]    | Downloading package punkt to /root/nltk_data...\n",
            "[nltk_data]    |   Unzipping tokenizers/punkt.zip.\n",
            "[nltk_data]    | Downloading package snowball_data to\n",
            "[nltk_data]    |     /root/nltk_data...\n",
            "[nltk_data]    | Downloading package averaged_perceptron_tagger to\n",
            "[nltk_data]    |     /root/nltk_data...\n",
            "[nltk_data]    |   Unzipping taggers/averaged_perceptron_tagger.zip.\n",
            "[nltk_data]    | \n",
            "[nltk_data]  Done downloading collection popular\n"
          ],
          "name": "stdout"
        },
        {
          "output_type": "execute_result",
          "data": {
            "text/plain": [
              "True"
            ]
          },
          "metadata": {},
          "execution_count": 4
        }
      ]
    },
    {
      "cell_type": "code",
      "metadata": {
        "id": "iChr9ThmFxBV"
      },
      "source": [
        "paragraph=\"Tulsidas was a Hindu poet-saint counted amongst the greatest poets in Hindi, Indian, and world literature. He was renowned for his devotion to Lord Rama and is best known as the author of the epic ‘Ramcharitmanas’, a retelling of the Sanskrit ‘Ramayana’ based on Rama's life in the vernacular Awadhi. He is also considered to be the composer of the ‘Hanuman Chalisa’ in praise of Hanuman, an ardent devotee of Rama. Tulsidas was believed to be reincarnation of the saint Valmiki who was the composer of the original ‘Ramayana’. A prolific writer and the composer of numerous popular works, Tulsidas, however, gave only a few facts about his own life in his works. Whatever is known about him is primarily known from the ‘Bhaktamal’ composed by his contemporary Nabhadas, and a commentary on ‘Bhaktamal’ titled ‘Bhaktirasbodhini’ composed by Priyadas. There are many legends surrounding the birth and early life of Tulsidas and he is believed to have met Hanuman, and through his grace, had a vision of Lord Rama. The Sankatmochan Temple dedicated to Hanuman in Varanasi is said to stand at the place where he had the sight of Hanuman. Tulsidas was a much acclaimed poet and the impact of his works continues to reflect in the art, culture and society in India.\""
      ],
      "execution_count": 5,
      "outputs": []
    },
    {
      "cell_type": "code",
      "metadata": {
        "colab": {
          "base_uri": "https://localhost:8080/"
        },
        "id": "T6eVjz6lGSR3",
        "outputId": "8dcc1192-27c0-4538-b6ff-4c1caa8aea9d"
      },
      "source": [
        "#tokenizing sentences\n",
        "sentences=nltk.sent_tokenize(paragraph)\n",
        "print(sentences,end=\"\")\n"
      ],
      "execution_count": 6,
      "outputs": [
        {
          "output_type": "stream",
          "text": [
            "['Tulsidas was a Hindu poet-saint counted amongst the greatest poets in Hindi, Indian, and world literature.', \"He was renowned for his devotion to Lord Rama and is best known as the author of the epic ‘Ramcharitmanas’, a retelling of the Sanskrit ‘Ramayana’ based on Rama's life in the vernacular Awadhi.\", 'He is also considered to be the composer of the ‘Hanuman Chalisa’ in praise of Hanuman, an ardent devotee of Rama.', 'Tulsidas was believed to be reincarnation of the saint Valmiki who was the composer of the original ‘Ramayana’.', 'A prolific writer and the composer of numerous popular works, Tulsidas, however, gave only a few facts about his own life in his works.', 'Whatever is known about him is primarily known from the ‘Bhaktamal’ composed by his contemporary Nabhadas, and a commentary on ‘Bhaktamal’ titled ‘Bhaktirasbodhini’ composed by Priyadas.', 'There are many legends surrounding the birth and early life of Tulsidas and he is believed to have met Hanuman, and through his grace, had a vision of Lord Rama.', 'The Sankatmochan Temple dedicated to Hanuman in Varanasi is said to stand at the place where he had the sight of Hanuman.', 'Tulsidas was a much acclaimed poet and the impact of his works continues to reflect in the art, culture and society in India.']"
          ],
          "name": "stdout"
        }
      ]
    },
    {
      "cell_type": "code",
      "metadata": {
        "colab": {
          "base_uri": "https://localhost:8080/"
        },
        "id": "1_h5wM0zGrC1",
        "outputId": "f0675654-af6c-4cce-c6b4-c27c7d271626"
      },
      "source": [
        "#tokenizing words\n",
        "words=nltk.word_tokenize(paragraph)\n",
        "print(words,end='')"
      ],
      "execution_count": 7,
      "outputs": [
        {
          "output_type": "stream",
          "text": [
            "['Tulsidas', 'was', 'a', 'Hindu', 'poet-saint', 'counted', 'amongst', 'the', 'greatest', 'poets', 'in', 'Hindi', ',', 'Indian', ',', 'and', 'world', 'literature', '.', 'He', 'was', 'renowned', 'for', 'his', 'devotion', 'to', 'Lord', 'Rama', 'and', 'is', 'best', 'known', 'as', 'the', 'author', 'of', 'the', 'epic', '‘', 'Ramcharitmanas', '’', ',', 'a', 'retelling', 'of', 'the', 'Sanskrit', '‘', 'Ramayana', '’', 'based', 'on', 'Rama', \"'s\", 'life', 'in', 'the', 'vernacular', 'Awadhi', '.', 'He', 'is', 'also', 'considered', 'to', 'be', 'the', 'composer', 'of', 'the', '‘', 'Hanuman', 'Chalisa', '’', 'in', 'praise', 'of', 'Hanuman', ',', 'an', 'ardent', 'devotee', 'of', 'Rama', '.', 'Tulsidas', 'was', 'believed', 'to', 'be', 'reincarnation', 'of', 'the', 'saint', 'Valmiki', 'who', 'was', 'the', 'composer', 'of', 'the', 'original', '‘', 'Ramayana', '’', '.', 'A', 'prolific', 'writer', 'and', 'the', 'composer', 'of', 'numerous', 'popular', 'works', ',', 'Tulsidas', ',', 'however', ',', 'gave', 'only', 'a', 'few', 'facts', 'about', 'his', 'own', 'life', 'in', 'his', 'works', '.', 'Whatever', 'is', 'known', 'about', 'him', 'is', 'primarily', 'known', 'from', 'the', '‘', 'Bhaktamal', '’', 'composed', 'by', 'his', 'contemporary', 'Nabhadas', ',', 'and', 'a', 'commentary', 'on', '‘', 'Bhaktamal', '’', 'titled', '‘', 'Bhaktirasbodhini', '’', 'composed', 'by', 'Priyadas', '.', 'There', 'are', 'many', 'legends', 'surrounding', 'the', 'birth', 'and', 'early', 'life', 'of', 'Tulsidas', 'and', 'he', 'is', 'believed', 'to', 'have', 'met', 'Hanuman', ',', 'and', 'through', 'his', 'grace', ',', 'had', 'a', 'vision', 'of', 'Lord', 'Rama', '.', 'The', 'Sankatmochan', 'Temple', 'dedicated', 'to', 'Hanuman', 'in', 'Varanasi', 'is', 'said', 'to', 'stand', 'at', 'the', 'place', 'where', 'he', 'had', 'the', 'sight', 'of', 'Hanuman', '.', 'Tulsidas', 'was', 'a', 'much', 'acclaimed', 'poet', 'and', 'the', 'impact', 'of', 'his', 'works', 'continues', 'to', 'reflect', 'in', 'the', 'art', ',', 'culture', 'and', 'society', 'in', 'India', '.']"
          ],
          "name": "stdout"
        }
      ]
    }
  ]
}