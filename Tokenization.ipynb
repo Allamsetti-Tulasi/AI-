{
  "nbformat": 4,
  "nbformat_minor": 0,
  "metadata": {
    "colab": {
      "name": "Tokenization.ipynb",
      "provenance": [],
      "authorship_tag": "ABX9TyM7DxiGntytJRLoCvEt0908",
      "include_colab_link": true
    },
    "kernelspec": {
      "name": "python3",
      "display_name": "Python 3"
    },
    "language_info": {
      "name": "python"
    }
  },
  "cells": [
    {
      "cell_type": "markdown",
      "metadata": {
        "id": "view-in-github",
        "colab_type": "text"
      },
      "source": [
        "<a href=\"https://colab.research.google.com/github/Allamsetti-Tulasi/AI-/blob/main/Tokenization.ipynb\" target=\"_parent\"><img src=\"https://colab.research.google.com/assets/colab-badge.svg\" alt=\"Open In Colab\"/></a>"
      ]
    },
    {
      "cell_type": "code",
      "metadata": {
        "colab": {
          "base_uri": "https://localhost:8080/"
        },
        "id": "i3Gs2DBeHzX4",
        "outputId": "d0e61ad7-6257-47eb-cd98-9089a6a7c465"
      },
      "source": [
        "#tokenization of paragraph/sentences\n",
        "import nltk\n",
        "nltk.download(\"popular\")     "
      ],
      "execution_count": 1,
      "outputs": [
        {
          "output_type": "stream",
          "text": [
            "[nltk_data] Downloading collection 'popular'\n",
            "[nltk_data]    | \n",
            "[nltk_data]    | Downloading package cmudict to /root/nltk_data...\n",
            "[nltk_data]    |   Unzipping corpora/cmudict.zip.\n",
            "[nltk_data]    | Downloading package gazetteers to /root/nltk_data...\n",
            "[nltk_data]    |   Unzipping corpora/gazetteers.zip.\n",
            "[nltk_data]    | Downloading package genesis to /root/nltk_data...\n",
            "[nltk_data]    |   Unzipping corpora/genesis.zip.\n",
            "[nltk_data]    | Downloading package gutenberg to /root/nltk_data...\n",
            "[nltk_data]    |   Unzipping corpora/gutenberg.zip.\n",
            "[nltk_data]    | Downloading package inaugural to /root/nltk_data...\n",
            "[nltk_data]    |   Unzipping corpora/inaugural.zip.\n",
            "[nltk_data]    | Downloading package movie_reviews to\n",
            "[nltk_data]    |     /root/nltk_data...\n",
            "[nltk_data]    |   Unzipping corpora/movie_reviews.zip.\n",
            "[nltk_data]    | Downloading package names to /root/nltk_data...\n",
            "[nltk_data]    |   Unzipping corpora/names.zip.\n",
            "[nltk_data]    | Downloading package shakespeare to /root/nltk_data...\n",
            "[nltk_data]    |   Unzipping corpora/shakespeare.zip.\n",
            "[nltk_data]    | Downloading package stopwords to /root/nltk_data...\n",
            "[nltk_data]    |   Unzipping corpora/stopwords.zip.\n",
            "[nltk_data]    | Downloading package treebank to /root/nltk_data...\n",
            "[nltk_data]    |   Unzipping corpora/treebank.zip.\n",
            "[nltk_data]    | Downloading package twitter_samples to\n",
            "[nltk_data]    |     /root/nltk_data...\n",
            "[nltk_data]    |   Unzipping corpora/twitter_samples.zip.\n",
            "[nltk_data]    | Downloading package omw to /root/nltk_data...\n",
            "[nltk_data]    |   Unzipping corpora/omw.zip.\n",
            "[nltk_data]    | Downloading package wordnet to /root/nltk_data...\n",
            "[nltk_data]    |   Unzipping corpora/wordnet.zip.\n",
            "[nltk_data]    | Downloading package wordnet_ic to /root/nltk_data...\n",
            "[nltk_data]    |   Unzipping corpora/wordnet_ic.zip.\n",
            "[nltk_data]    | Downloading package words to /root/nltk_data...\n",
            "[nltk_data]    |   Unzipping corpora/words.zip.\n",
            "[nltk_data]    | Downloading package maxent_ne_chunker to\n",
            "[nltk_data]    |     /root/nltk_data...\n",
            "[nltk_data]    |   Unzipping chunkers/maxent_ne_chunker.zip.\n",
            "[nltk_data]    | Downloading package punkt to /root/nltk_data...\n",
            "[nltk_data]    |   Unzipping tokenizers/punkt.zip.\n",
            "[nltk_data]    | Downloading package snowball_data to\n",
            "[nltk_data]    |     /root/nltk_data...\n",
            "[nltk_data]    | Downloading package averaged_perceptron_tagger to\n",
            "[nltk_data]    |     /root/nltk_data...\n",
            "[nltk_data]    |   Unzipping taggers/averaged_perceptron_tagger.zip.\n",
            "[nltk_data]    | \n",
            "[nltk_data]  Done downloading collection popular\n"
          ],
          "name": "stdout"
        },
        {
          "output_type": "execute_result",
          "data": {
            "text/plain": [
              "True"
            ]
          },
          "metadata": {
            "tags": []
          },
          "execution_count": 1
        }
      ]
    },
    {
      "cell_type": "code",
      "metadata": {
        "id": "2m3DUT4_Kgi8"
      },
      "source": [
        "paragraph=\"A.P.J. Abdul Kalam was an aerospace scientist who joined India's defense department after graduating from the Madras Institute of Technology. He was a central figure in the development of the country's nuclear capabilities and was hailed as a national hero after a series of successful tests in 1998. Kalam served as India's president for one term from 2002 to 2007, and died of a heart attack on July 27, 2015.\""
      ],
      "execution_count": 2,
      "outputs": []
    },
    {
      "cell_type": "code",
      "metadata": {
        "colab": {
          "base_uri": "https://localhost:8080/"
        },
        "id": "KOqf3To0LTFa",
        "outputId": "deccee35-e102-4024-d5f1-51052727a6e1"
      },
      "source": [
        "#tokenizing sentences\n",
        "sentences=nltk.sent_tokenize(paragraph)\n",
        "print(sentences)"
      ],
      "execution_count": 7,
      "outputs": [
        {
          "output_type": "stream",
          "text": [
            "['A.P.J.', \"Abdul Kalam was an aerospace scientist who joined India's defense department after graduating from the Madras Institute of Technology.\", \"He was a central figure in the development of the country's nuclear capabilities and was hailed as a national hero after a series of successful tests in 1998.\", \"Kalam served as India's president for one term from 2002 to 2007, and died of a heart attack on July 27, 2015.\"]\n"
          ],
          "name": "stdout"
        }
      ]
    },
    {
      "cell_type": "code",
      "metadata": {
        "colab": {
          "base_uri": "https://localhost:8080/"
        },
        "id": "g4-QHBZgLzxL",
        "outputId": "9437cdee-f48c-4a6b-bf86-98c8a809ec4c"
      },
      "source": [
        "#tokenizing wrds\n",
        "words=nltk.word_tokenize(paragraph)\n",
        "print(words)"
      ],
      "execution_count": 11,
      "outputs": [
        {
          "output_type": "stream",
          "text": [
            "['A.P.J', '.', 'Abdul', 'Kalam', 'was', 'an', 'aerospace', 'scientist', 'who', 'joined', 'India', \"'s\", 'defense', 'department', 'after', 'graduating', 'from', 'the', 'Madras', 'Institute', 'of', 'Technology', '.', 'He', 'was', 'a', 'central', 'figure', 'in', 'the', 'development', 'of', 'the', 'country', \"'s\", 'nuclear', 'capabilities', 'and', 'was', 'hailed', 'as', 'a', 'national', 'hero', 'after', 'a', 'series', 'of', 'successful', 'tests', 'in', '1998', '.', 'Kalam', 'served', 'as', 'India', \"'s\", 'president', 'for', 'one', 'term', 'from', '2002', 'to', '2007', ',', 'and', 'died', 'of', 'a', 'heart', 'attack', 'on', 'July', '27', ',', '2015', '.']\n"
          ],
          "name": "stdout"
        }
      ]
    }
  ]
}