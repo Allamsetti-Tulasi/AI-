{
  "nbformat": 4,
  "nbformat_minor": 0,
  "metadata": {
    "colab": {
      "name": "dict.ipynb",
      "provenance": [],
      "authorship_tag": "ABX9TyO6Z1/xEVztWLxCORLxhvJP",
      "include_colab_link": true
    },
    "kernelspec": {
      "name": "python3",
      "display_name": "Python 3"
    },
    "language_info": {
      "name": "python"
    }
  },
  "cells": [
    {
      "cell_type": "markdown",
      "metadata": {
        "id": "view-in-github",
        "colab_type": "text"
      },
      "source": [
        "<a href=\"https://colab.research.google.com/github/Allamsetti-Tulasi/AI-/blob/main/dict.ipynb\" target=\"_parent\"><img src=\"https://colab.research.google.com/assets/colab-badge.svg\" alt=\"Open In Colab\"/></a>"
      ]
    },
    {
      "cell_type": "code",
      "metadata": {
        "id": "DSq9aTWuXouy"
      },
      "source": [
        "#{}\n",
        "#mutable ds\n",
        "#keyvalue pair\n",
        "data={'name':'nani','age':'21','gen':'m'}"
      ],
      "execution_count": 1,
      "outputs": []
    },
    {
      "cell_type": "code",
      "metadata": {
        "colab": {
          "base_uri": "https://localhost:8080/",
          "height": 35
        },
        "id": "VzEttHtTYJBz",
        "outputId": "cc60831b-4015-4a9a-9d05-68f581b2b523"
      },
      "source": [
        "data['name']"
      ],
      "execution_count": 2,
      "outputs": [
        {
          "output_type": "execute_result",
          "data": {
            "application/vnd.google.colaboratory.intrinsic+json": {
              "type": "string"
            },
            "text/plain": [
              "'nani'"
            ]
          },
          "metadata": {
            "tags": []
          },
          "execution_count": 2
        }
      ]
    },
    {
      "cell_type": "code",
      "metadata": {
        "id": "5Uv2YEY5YSWv"
      },
      "source": [
        "data['fair']='duskyy and ha ha ha'"
      ],
      "execution_count": 3,
      "outputs": []
    },
    {
      "cell_type": "code",
      "metadata": {
        "colab": {
          "base_uri": "https://localhost:8080/"
        },
        "id": "q6eDfjlEYiwY",
        "outputId": "6e8b7bdd-fb3c-48b2-d296-145d45d5caa4"
      },
      "source": [
        "print(data)"
      ],
      "execution_count": 4,
      "outputs": [
        {
          "output_type": "stream",
          "text": [
            "{'name': 'nani', 'age': '21', 'gen': 'm', 'fair': 'duskyy and ha ha ha'}\n"
          ],
          "name": "stdout"
        }
      ]
    }
  ]
}