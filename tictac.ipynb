{
  "nbformat": 4,
  "nbformat_minor": 0,
  "metadata": {
    "colab": {
      "name": "tictac.ipynb",
      "provenance": [],
      "collapsed_sections": [],
      "authorship_tag": "ABX9TyNoJ09ieZuxk+Odw+HxAkf1",
      "include_colab_link": true
    },
    "kernelspec": {
      "name": "python3",
      "display_name": "Python 3"
    },
    "language_info": {
      "name": "python"
    }
  },
  "cells": [
    {
      "cell_type": "markdown",
      "metadata": {
        "id": "view-in-github",
        "colab_type": "text"
      },
      "source": [
        "<a href=\"https://colab.research.google.com/github/Allamsetti-Tulasi/AI-/blob/main/tictac.ipynb\" target=\"_parent\"><img src=\"https://colab.research.google.com/assets/colab-badge.svg\" alt=\"Open In Colab\"/></a>"
      ]
    },
    {
      "cell_type": "code",
      "metadata": {
        "colab": {
          "base_uri": "https://localhost:8080/",
          "height": 128
        },
        "id": "KH-xAaiW3DEl",
        "outputId": "450d2994-bb0b-434d-dcdd-69326b7f13a9"
      },
      "source": [
        "i#implementation of 2 palyer tic tac toe game\n",
        "theboard={'7': '','8': '','9':'',\n",
        "          '4': '','5': '','6':'',\n",
        "          '1': '','2': '','3':'',}\n",
        "board_keys=[]\n",
        "for key in theBoard:\n",
        "  board_keys.append(key)\n",
        "  def printBoard(board):\n",
        "    print(board['7']+'|'+board['8']+'|'+board['9'])\n",
        "    print('-+-+-')\n",
        "    print(board['4']+'|'+board['5']+'|'+board['6'])\n",
        "    print('-+-+-')\n",
        "    print(board['1']+'|'+board['2']+'|'+board['3'])\n",
        "  #main fun\n",
        "  def game():\n",
        "    turn='X'\n",
        "    count=O\n",
        "for i in range (10):\n",
        "    printBoard(theBoard)\n",
        "    print(\"it's ur turn,\"+turn+\"move to which place?\")\n",
        " move = input()\n",
        "  if theBoard[move]=='':\n",
        "    theBoard[move]=turn\n",
        "    count+=1\n",
        "    else:\n",
        "      print(\"place is already filled\\n move to which place?\")\n",
        "      continue\n",
        "      #checking if player X or 0 has won for every move after 5 moves\n",
        "      if count>=5:\n",
        "        if theBoard ['7']==theBoard['8']==theBoard['9']!='': #across top\n",
        "        print Board(theBoard)\n",
        "print(\"\\n GAME OVER\")\n",
        "print(\"***\"+turn+\"won***\")\n",
        "break\n",
        "elif theBoard['4']==theBoard['5']==theBoard['6']!='':#across middle\n",
        "print Board(theBoard)\n",
        "print(\"\\n GAME OVER\")\n",
        "print(\"***\"+turn+\"won***\")\n",
        "break\n",
        "elif theBoard['1']==theBoard['2']==theBoard['3']!='':#across botttom\n",
        "print Board(theBoard)\n",
        "print(\"\\n GAME OVER\")\n",
        "print(\"***\"+turn+\"won***\")\n",
        "break\n",
        "elif theBoard['1']==theBoard['4']==theBoard['5']!='':#down the left side\n",
        "print Board(theBoard)\n",
        "print(\"\\n GAME OVER\")\n",
        "print(\"***\"+turn+\"won***\")\n",
        "break\n",
        "elif theBoard['2']==theBoard['5']==theBoard['8']!='':#down the middle side\n",
        "print Board(theBoard)\n",
        "print(\"\\n GAME OVER\")\n",
        "print(\"***\"+turn+\"won***\")\n",
        "break\n",
        "elif theBoard['7']==theBoard['5']==theBoard['3']!='':#diagonal\n",
        "print Board(theBoard)\n",
        "print(\"\\n GAME OVER\")\n",
        "print(\"***\"+turn+\"won***\")\n",
        "break\n",
        "elif theBoard['1']==theBoard['5']==theBoard['9']!='':#diagonal\n",
        "print Board(theBoard)\n",
        "print(\"\\n GAME OVER\")\n",
        "print(\"***\"+turn+\"won***\")\n",
        "break\n",
        "#if neither O nor X wins the board is fall ,we'll declare the result as tie:\n",
        "if count==9:\n",
        "  print(\"\\n GAME OVER\")\n",
        "  print(\"It's a tie\")\n",
        "  #changng the player after every move\n",
        "  if turn='X':\n",
        "    turn=O\n",
        "    else:\n",
        "      turn='X'\n",
        "      #asking player for restat the game\n",
        "      restart=input(\"Do wanna play again?(Y/N)\")\n",
        "      if restart==\"y\" or restart==\"Y\";\n",
        "      for key in board_keys=\"\"\n",
        "      game()\n",
        "      if_name_==\"__main__\":\n",
        "        game()\n"
      ],
      "execution_count": 19,
      "outputs": [
        {
          "output_type": "error",
          "ename": "IndentationError",
          "evalue": "ignored",
          "traceback": [
            "\u001b[0;36m  File \u001b[0;32m\"<ipython-input-19-88b5115afe81>\"\u001b[0;36m, line \u001b[0;32m21\u001b[0m\n\u001b[0;31m    move = input()\u001b[0m\n\u001b[0m                  ^\u001b[0m\n\u001b[0;31mIndentationError\u001b[0m\u001b[0;31m:\u001b[0m unindent does not match any outer indentation level\n"
          ]
        }
      ]
    },
    {
      "cell_type": "code",
      "metadata": {
        "id": "twdN6K4nCu3R"
      },
      "source": [
        ""
      ],
      "execution_count": 18,
      "outputs": []
    }
  ]
}