{
  "nbformat": 4,
  "nbformat_minor": 0,
  "metadata": {
    "colab": {
      "name": "Untitled3.ipynb",
      "provenance": [],
      "authorship_tag": "ABX9TyMDzWmGM8xweDB1b941yYbC",
      "include_colab_link": true
    },
    "kernelspec": {
      "name": "python3",
      "display_name": "Python 3"
    },
    "language_info": {
      "name": "python"
    }
  },
  "cells": [
    {
      "cell_type": "markdown",
      "metadata": {
        "id": "view-in-github",
        "colab_type": "text"
      },
      "source": [
        "<a href=\"https://colab.research.google.com/github/Allamsetti-Tulasi/AI-/blob/main/NumPy.ipynb\" target=\"_parent\"><img src=\"https://colab.research.google.com/assets/colab-badge.svg\" alt=\"Open In Colab\"/></a>"
      ]
    },
    {
      "cell_type": "code",
      "metadata": {
        "id": "0_RS2YlgKD-d"
      },
      "source": [
        "import numpy as np\n",
        "my_list=[1,2,3,4,5]\n",
        "arr=np.array(my_list)"
      ],
      "execution_count": 13,
      "outputs": []
    },
    {
      "cell_type": "code",
      "metadata": {
        "colab": {
          "base_uri": "https://localhost:8080/"
        },
        "id": "spa2WbTYLADi",
        "outputId": "0d6ac35b-bcc5-4d19-ece9-57dfdb79713f"
      },
      "source": [
        "arr"
      ],
      "execution_count": null,
      "outputs": [
        {
          "output_type": "execute_result",
          "data": {
            "text/plain": [
              "array([1, 2, 3, 4, 5])"
            ]
          },
          "metadata": {
            "tags": []
          },
          "execution_count": 2
        }
      ]
    },
    {
      "cell_type": "code",
      "metadata": {
        "id": "r0gsTfhbLF-u"
      },
      "source": [
        "#multinested aray\n",
        "my_list=[1,2,3,4,5]\n",
        "my_list1=[2,4,6,8,10]\n",
        "my_list2=[3,6,9,12,15]\n",
        "arr_new=np.array([my_list,my_list1,my_list2])\n",
        "print(arr_new) "
      ],
      "execution_count": null,
      "outputs": []
    },
    {
      "cell_type": "code",
      "metadata": {
        "colab": {
          "base_uri": "https://localhost:8080/"
        },
        "id": "Ycf9jcFFL-CL",
        "outputId": "080cc837-1502-44cb-ccd2-c024ff92adc4"
      },
      "source": [
        "arr_new[0:2,:]"
      ],
      "execution_count": 6,
      "outputs": [
        {
          "output_type": "execute_result",
          "data": {
            "text/plain": [
              "array([[ 1,  2,  3,  4,  5],\n",
              "       [ 2,  4,  6,  8, 10]])"
            ]
          },
          "metadata": {
            "tags": []
          },
          "execution_count": 6
        }
      ]
    },
    {
      "cell_type": "code",
      "metadata": {
        "colab": {
          "base_uri": "https://localhost:8080/"
        },
        "id": "ifuDKPRjMLij",
        "outputId": "9387af7a-03bb-4dd5-a16a-add4272df440"
      },
      "source": [
        "arr_new[:,:]"
      ],
      "execution_count": 7,
      "outputs": [
        {
          "output_type": "execute_result",
          "data": {
            "text/plain": [
              "array([[ 1,  2,  3,  4,  5],\n",
              "       [ 2,  4,  6,  8, 10],\n",
              "       [ 3,  6,  9, 12, 15]])"
            ]
          },
          "metadata": {
            "tags": []
          },
          "execution_count": 7
        }
      ]
    },
    {
      "cell_type": "markdown",
      "metadata": {
        "id": "MwEAbA7UNyEv"
      },
      "source": [
        ""
      ]
    },
    {
      "cell_type": "code",
      "metadata": {
        "colab": {
          "base_uri": "https://localhost:8080/"
        },
        "id": "Q9SSdN7FN23O",
        "outputId": "9a18f49b-2053-4311-e0e4-661fee38eaa7"
      },
      "source": [
        "#arange function is used to give equally space values\n",
        "arr=np.arange(0,11)\n",
        "print(arr)"
      ],
      "execution_count": 8,
      "outputs": [
        {
          "output_type": "stream",
          "text": [
            "[ 0  1  2  3  4  5  6  7  8  9 10]\n"
          ],
          "name": "stdout"
        }
      ]
    },
    {
      "cell_type": "code",
      "metadata": {
        "colab": {
          "base_uri": "https://localhost:8080/"
        },
        "id": "OEK8Od_vPlJj",
        "outputId": "40056dbf-fff8-40d8-b80f-0c300363503e"
      },
      "source": [
        "np.linspace(0,9,20)"
      ],
      "execution_count": 9,
      "outputs": [
        {
          "output_type": "execute_result",
          "data": {
            "text/plain": [
              "array([0.        , 0.47368421, 0.94736842, 1.42105263, 1.89473684,\n",
              "       2.36842105, 2.84210526, 3.31578947, 3.78947368, 4.26315789,\n",
              "       4.73684211, 5.21052632, 5.68421053, 6.15789474, 6.63157895,\n",
              "       7.10526316, 7.57894737, 8.05263158, 8.52631579, 9.        ])"
            ]
          },
          "metadata": {
            "tags": []
          },
          "execution_count": 9
        }
      ]
    },
    {
      "cell_type": "code",
      "metadata": {
        "colab": {
          "base_uri": "https://localhost:8080/"
        },
        "id": "v_Austpo9ls9",
        "outputId": "b01f1ea7-98cc-4222-f074-aeeeff219374"
      },
      "source": [
        "np.ones(4)"
      ],
      "execution_count": 10,
      "outputs": [
        {
          "output_type": "execute_result",
          "data": {
            "text/plain": [
              "array([1., 1., 1., 1.])"
            ]
          },
          "metadata": {
            "tags": []
          },
          "execution_count": 10
        }
      ]
    },
    {
      "cell_type": "code",
      "metadata": {
        "colab": {
          "base_uri": "https://localhost:8080/"
        },
        "id": "HJCfnrhZ-Oqc",
        "outputId": "8040940b-895d-4b7f-878c-ae5dc091a9d1"
      },
      "source": [
        "np.ones((1,2),dtype=int)"
      ],
      "execution_count": 18,
      "outputs": [
        {
          "output_type": "execute_result",
          "data": {
            "text/plain": [
              "array([[1, 1]])"
            ]
          },
          "metadata": {
            "tags": []
          },
          "execution_count": 18
        }
      ]
    },
    {
      "cell_type": "code",
      "metadata": {
        "colab": {
          "base_uri": "https://localhost:8080/"
        },
        "id": "dR-Epu4s_amC",
        "outputId": "131ed57d-df10-4b42-ae08-52ffd93fdd0b"
      },
      "source": [
        "np.random.rand(1,2)"
      ],
      "execution_count": 20,
      "outputs": [
        {
          "output_type": "execute_result",
          "data": {
            "text/plain": [
              "array([[0.86138353, 0.76932319]])"
            ]
          },
          "metadata": {
            "tags": []
          },
          "execution_count": 20
        }
      ]
    }
  ]
}